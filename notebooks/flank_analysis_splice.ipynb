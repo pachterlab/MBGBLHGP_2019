{
  "nbformat": 4,
  "nbformat_minor": 0,
  "metadata": {
    "kernelspec": {
      "display_name": "Python 3",
      "language": "python",
      "name": "python3"
    },
    "language_info": {
      "codemirror_mode": {
        "name": "ipython",
        "version": 3
      },
      "file_extension": ".py",
      "mimetype": "text/x-python",
      "name": "python",
      "nbconvert_exporter": "python",
      "pygments_lexer": "ipython3",
      "version": "3.7.9"
    },
    "colab": {
      "name": "flank_analysis_splice.ipynb",
      "provenance": [],
      "include_colab_link": true
    }
  },
  "cells": [
    {
      "cell_type": "markdown",
      "metadata": {
        "id": "view-in-github",
        "colab_type": "text"
      },
      "source": [
        "<a href=\"https://colab.research.google.com/github/pachterlab/MBGBLHGP_2019/blob/master/notebooks/flank_analysis_splice.ipynb\" target=\"_parent\"><img src=\"https://colab.research.google.com/assets/colab-badge.svg\" alt=\"Open In Colab\"/></a>"
      ]
    },
    {
      "cell_type": "code",
      "metadata": {
        "id": "8JQ8-1A2d4fO",
        "outputId": "386902b8-9944-4762-b7c6-38e3ab470ced"
      },
      "source": [
        "!date"
      ],
      "execution_count": null,
      "outputs": [
        {
          "output_type": "stream",
          "text": [
            "Thu Jun 13 02:37:24 PDT 2019\n"
          ],
          "name": "stdout"
        }
      ]
    },
    {
      "cell_type": "code",
      "metadata": {
        "id": "E7gg3Mf0d7z0",
        "outputId": "f6e12ec4-8bb5-4776-a824-c4c1b46ba35f",
        "colab": {
          "base_uri": "https://localhost:8080/"
        }
      },
      "source": [
        "!git clone https://github.com/pachterlab/MBGBLHGP_2019.git"
      ],
      "execution_count": 1,
      "outputs": [
        {
          "output_type": "stream",
          "text": [
            "Cloning into 'MBGBLHGP_2019'...\n",
            "remote: Enumerating objects: 4, done.\u001b[K\n",
            "remote: Counting objects: 100% (4/4), done.\u001b[K\n",
            "remote: Compressing objects: 100% (4/4), done.\u001b[K\n",
            "remote: Total 529 (delta 0), reused 0 (delta 0), pack-reused 525\u001b[K\n",
            "Receiving objects: 100% (529/529), 795.76 MiB | 40.57 MiB/s, done.\n",
            "Resolving deltas: 100% (172/172), done.\n",
            "Checking out files: 100% (208/208), done.\n"
          ],
          "name": "stdout"
        }
      ]
    },
    {
      "cell_type": "code",
      "metadata": {
        "id": "5r_PaG96d-op",
        "outputId": "f5a1e82f-7685-4ebb-9234-4f017e7dae98",
        "colab": {
          "base_uri": "https://localhost:8080/"
        }
      },
      "source": [
        "!yes | pip install scanpy --quiet"
      ],
      "execution_count": 2,
      "outputs": [
        {
          "output_type": "stream",
          "text": [
            "\u001b[K     |████████████████████████████████| 10.3MB 6.5MB/s \n",
            "\u001b[K     |████████████████████████████████| 122kB 52.3MB/s \n",
            "\u001b[K     |████████████████████████████████| 51kB 7.2MB/s \n",
            "\u001b[K     |████████████████████████████████| 71kB 9.8MB/s \n",
            "\u001b[?25h  Building wheel for sinfo (setup.py) ... \u001b[?25l\u001b[?25hdone\n"
          ],
          "name": "stdout"
        }
      ]
    },
    {
      "cell_type": "code",
      "metadata": {
        "id": "foIRHG1Ad-hf",
        "outputId": "53bb2d71-cbfb-43d8-9108-bd632b681c71",
        "colab": {
          "base_uri": "https://localhost:8080/"
        }
      },
      "source": [
        "!tar -xvf MBGBLHGP_2019/data/flank/filtered_feature_bc_matrix.tar.gz\n",
        "!gunzip MBGBLHGP_2019/data/flank/normal/*\n",
        "!gunzip MBGBLHGP_2019/data/flank/splice/*\n",
        "!cat MBGBLHGP_2019/data/flank/normal/genes.mtx.top MBGBLHGP_2019/data/flank/normal/genes.mtx.bot > MBGBLHGP_2019/data/flank/normal/genes.mtx\n",
        "!cat MBGBLHGP_2019/data/flank/splice/genes.mtx.top MBGBLHGP_2019/data/flank/splice/genes.mtx.bot > MBGBLHGP_2019/data/flank/splice/genes.mtx"
      ],
      "execution_count": 3,
      "outputs": [
        {
          "output_type": "stream",
          "text": [
            "filtered_feature_bc_matrix/\n",
            "filtered_feature_bc_matrix/matrix.mtx.gz\n",
            "filtered_feature_bc_matrix/features.tsv.gz\n",
            "filtered_feature_bc_matrix/barcodes.tsv.gz\n"
          ],
          "name": "stdout"
        }
      ]
    },
    {
      "cell_type": "code",
      "metadata": {
        "id": "gWMIOP6od4fP"
      },
      "source": [
        "import scanpy as sc\n",
        "from scipy import sparse, io\n",
        "import pandas as pd\n",
        "import matplotlib.pyplot as plt\n",
        "%config InlineBackend.figure_format = 'retina'"
      ],
      "execution_count": 4,
      "outputs": []
    },
    {
      "cell_type": "code",
      "metadata": {
        "id": "7O3Mvq1pd4fQ"
      },
      "source": [
        "c = sc.read_10x_mtx(\"filtered_feature_bc_matrix/\")"
      ],
      "execution_count": 5,
      "outputs": []
    },
    {
      "cell_type": "code",
      "metadata": {
        "id": "uCX1VRIXd4fQ"
      },
      "source": [
        "k = sc.read_mtx(\"MBGBLHGP_2019/data/flank/splice/genes.mtx\")"
      ],
      "execution_count": 6,
      "outputs": []
    },
    {
      "cell_type": "code",
      "metadata": {
        "id": "dkVv76rUd4fR",
        "outputId": "f4f433e6-bfd0-4473-eee8-ed8e4bab373b",
        "colab": {
          "base_uri": "https://localhost:8080/"
        }
      },
      "source": [
        "print(c)\n",
        "print(k)"
      ],
      "execution_count": 7,
      "outputs": [
        {
          "output_type": "stream",
          "text": [
            "AnnData object with n_obs × n_vars = 11692 × 33538\n",
            "    var: 'gene_ids', 'feature_types'\n",
            "AnnData object with n_obs × n_vars = 993115 × 58676\n"
          ],
          "name": "stdout"
        }
      ]
    },
    {
      "cell_type": "code",
      "metadata": {
        "id": "L5dxwu9Od4fR"
      },
      "source": [
        "import pandas as pd"
      ],
      "execution_count": 8,
      "outputs": []
    },
    {
      "cell_type": "code",
      "metadata": {
        "id": "Rp6JFoCxd4fR"
      },
      "source": [
        "k_bcs = pd.read_csv(\"MBGBLHGP_2019/data/flank/splice/genes.barcodes.txt\", header=None)\n",
        "k_genes = pd.read_csv(\"MBGBLHGP_2019/data/flank/splice/genes.genes.txt\", header=None)"
      ],
      "execution_count": 11,
      "outputs": []
    },
    {
      "cell_type": "code",
      "metadata": {
        "id": "vSvgAl8od4fS"
      },
      "source": [
        "k.obs.index = k_bcs[0].values\n",
        "k.var.index = k_genes[0].values"
      ],
      "execution_count": 12,
      "outputs": []
    },
    {
      "cell_type": "markdown",
      "metadata": {
        "id": "h8l3eZ69d4fS"
      },
      "source": [
        "## Filter k by barcodes in c"
      ]
    },
    {
      "cell_type": "code",
      "metadata": {
        "id": "5MMuo7JBd4fS"
      },
      "source": [
        "c.obs.index = c.obs.index.str.slice(0, 16)"
      ],
      "execution_count": 13,
      "outputs": []
    },
    {
      "cell_type": "code",
      "metadata": {
        "id": "DzhgBD_wd4fS"
      },
      "source": [
        "c.var.index = c.var[\"gene_ids\"]"
      ],
      "execution_count": 14,
      "outputs": []
    },
    {
      "cell_type": "code",
      "metadata": {
        "id": "h27yIR_zd4fT",
        "outputId": "27ff2eec-3256-499e-e539-2f92e5024991",
        "colab": {
          "base_uri": "https://localhost:8080/"
        }
      },
      "source": [
        "k = k[k.obs.index.isin(c.obs.index)]\n",
        "print(k)"
      ],
      "execution_count": 15,
      "outputs": [
        {
          "output_type": "stream",
          "text": [
            "View of AnnData object with n_obs × n_vars = 11692 × 58676\n"
          ],
          "name": "stdout"
        }
      ]
    },
    {
      "cell_type": "code",
      "metadata": {
        "id": "jR5r4xBjd4fT",
        "outputId": "6838be97-34cf-4590-cf7a-1105810f762b",
        "colab": {
          "base_uri": "https://localhost:8080/"
        }
      },
      "source": [
        "k = k[:,k.var.index.isin(c.var.index)]\n",
        "print(k)"
      ],
      "execution_count": 16,
      "outputs": [
        {
          "output_type": "stream",
          "text": [
            "View of AnnData object with n_obs × n_vars = 11692 × 33427\n"
          ],
          "name": "stdout"
        }
      ]
    },
    {
      "cell_type": "code",
      "metadata": {
        "id": "rc493dtNd4fU"
      },
      "source": [
        "c = c[:,c.var.index.isin(k.var.index)]"
      ],
      "execution_count": 17,
      "outputs": []
    },
    {
      "cell_type": "code",
      "metadata": {
        "id": "sLqvfZ2Ud4fU",
        "outputId": "c572beb0-8b0e-4897-adc7-9b72f9fd772b",
        "colab": {
          "base_uri": "https://localhost:8080/"
        }
      },
      "source": [
        "print(c)\n",
        "print(k)"
      ],
      "execution_count": 18,
      "outputs": [
        {
          "output_type": "stream",
          "text": [
            "View of AnnData object with n_obs × n_vars = 11692 × 33427\n",
            "    var: 'gene_ids', 'feature_types'\n",
            "View of AnnData object with n_obs × n_vars = 11692 × 33427\n"
          ],
          "name": "stdout"
        }
      ]
    },
    {
      "cell_type": "code",
      "metadata": {
        "id": "GZb1GVwrd4fU"
      },
      "source": [
        "safe_c = c.copy()\n",
        "safe_k = k.copy()"
      ],
      "execution_count": 19,
      "outputs": []
    },
    {
      "cell_type": "code",
      "metadata": {
        "id": "8Cunz-G9d4fU"
      },
      "source": [
        "c = safe_c.copy()\n",
        "k = safe_k.copy()"
      ],
      "execution_count": 20,
      "outputs": []
    },
    {
      "cell_type": "markdown",
      "metadata": {
        "id": "SaYTokjJd4fV"
      },
      "source": [
        "# Scanpy Analysis"
      ]
    },
    {
      "cell_type": "code",
      "metadata": {
        "id": "oYIHsJwpd4fV"
      },
      "source": [
        "c.var_names_make_unique()\n",
        "c.obs_names_make_unique()\n",
        "sc.pp.filter_cells(c, min_genes=0)\n",
        "sc.pp.filter_cells(c, min_counts=0)\n",
        "sc.pp.filter_genes(c, min_cells=0)\n",
        "\n",
        "k.var_names_make_unique()\n",
        "k.obs_names_make_unique()\n",
        "sc.pp.filter_cells(k, min_genes=0)\n",
        "sc.pp.filter_cells(k, min_counts=0)\n",
        "sc.pp.filter_genes(k, min_cells=0)"
      ],
      "execution_count": 21,
      "outputs": []
    },
    {
      "cell_type": "code",
      "metadata": {
        "id": "KSFnxh-yd4fV",
        "outputId": "35236aee-8bce-4f68-e6ce-6131015ecf5a",
        "colab": {
          "base_uri": "https://localhost:8080/",
          "height": 565
        }
      },
      "source": [
        "fig, ax = plt.subplots()\n",
        "ax.set_ylim(-3, 103)\n",
        "sc.pl.violin(c, keys='ENSG00000118972', color=\"#1F77B4\", dpi=300, save=\"cellranger_gene.pdf\", ax=ax)\n",
        "\n",
        "fig, ax = plt.subplots()\n",
        "ax.set_ylim(-3, 103)\n",
        "sc.pl.violin(k, keys='ENSG00000118972', color=\"#FF7F0E\", dpi=300, save=\"kallisto_splice_gene.pdf\", ax=ax)"
      ],
      "execution_count": 22,
      "outputs": [
        {
          "output_type": "stream",
          "text": [
            "... storing 'feature_types' as categorical\n",
            "WARNING: saving figure to file figures/violincellranger_gene.pdf\n"
          ],
          "name": "stderr"
        },
        {
          "output_type": "display_data",
          "data": {
            "image/png": "[encoded data removed]",
            "text/plain": [
              "<Figure size 432x288 with 1 Axes>"
            ]
          },
          "metadata": {
            "tags": [],
            "image/png": {
              "width": 388,
              "height": 248
            },
            "needs_background": "light"
          }
        },
        {
          "output_type": "stream",
          "text": [
            "WARNING: saving figure to file figures/violinkallisto_splice_gene.pdf\n"
          ],
          "name": "stderr"
        },
        {
          "output_type": "display_data",
          "data": {
            "image/png": "[encoded data removed]",
            "text/plain": [
              "<Figure size 432x288 with 1 Axes>"
            ]
          },
          "metadata": {
            "tags": [],
            "image/png": {
              "width": 388,
              "height": 248
            },
            "needs_background": "light"
          }
        }
      ]
    },
    {
      "cell_type": "code",
      "metadata": {
        "id": "0UZ_q7IEeOGV"
      },
      "source": [
        ""
      ],
      "execution_count": 22,
      "outputs": []
    }
  ]
}