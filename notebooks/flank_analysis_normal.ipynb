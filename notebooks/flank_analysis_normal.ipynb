{
  "nbformat": 4,
  "nbformat_minor": 0,
  "metadata": {
    "kernelspec": {
      "display_name": "Python 3",
      "language": "python",
      "name": "python3"
    },
    "language_info": {
      "codemirror_mode": {
        "name": "ipython",
        "version": 3
      },
      "file_extension": ".py",
      "mimetype": "text/x-python",
      "name": "python",
      "nbconvert_exporter": "python",
      "pygments_lexer": "ipython3",
      "version": "3.7.9"
    },
    "colab": {
      "name": "flank_analysis_normal.ipynb",
      "provenance": [],
      "toc_visible": true,
      "include_colab_link": true
    }
  },
  "cells": [
    {
      "cell_type": "markdown",
      "metadata": {
        "id": "view-in-github",
        "colab_type": "text"
      },
      "source": [
        "<a href=\"https://colab.research.google.com/github/pachterlab/MBGBLHGP_2019/blob/master/notebooks/flank_analysis_normal.ipynb\" target=\"_parent\"><img src=\"https://colab.research.google.com/assets/colab-badge.svg\" alt=\"Open In Colab\"/></a>"
      ]
    },
    {
      "cell_type": "code",
      "metadata": {
        "id": "gFcpiumxJNWK",
        "outputId": "57899ffa-1473-483a-98e6-4b9e4b83e7fe"
      },
      "source": [
        "!date"
      ],
      "execution_count": null,
      "outputs": [
        {
          "output_type": "stream",
          "text": [
            "Thu Jun 13 02:37:24 PDT 2019\n"
          ],
          "name": "stdout"
        }
      ]
    },
    {
      "cell_type": "code",
      "metadata": {
        "id": "NKs_V-qwJOZ8",
        "outputId": "9f5ab211-8508-44e7-b302-487074f67c7c",
        "colab": {
          "base_uri": "https://localhost:8080/"
        }
      },
      "source": [
        "!git clone https://github.com/pachterlab/MBGBLHGP_2019.git"
      ],
      "execution_count": 1,
      "outputs": [
        {
          "output_type": "stream",
          "text": [
            "Cloning into 'MBGBLHGP_2019'...\n",
            "remote: Enumerating objects: 123, done.\u001b[K\n",
            "remote: Counting objects: 100% (123/123), done.\u001b[K\n",
            "remote: Compressing objects: 100% (116/116), done.\u001b[K\n",
            "remote: Total 525 (delta 18), reused 103 (delta 7), pack-reused 402\u001b[K\n",
            "Receiving objects: 100% (525/525), 795.79 MiB | 6.36 MiB/s, done.\n",
            "Resolving deltas: 100% (166/166), done.\n",
            "Checking out files: 100% (208/208), done.\n"
          ],
          "name": "stdout"
        }
      ]
    },
    {
      "cell_type": "code",
      "metadata": {
        "id": "jTYoQ40gJRru"
      },
      "source": [
        "!yes | pip install scanpy --quiet"
      ],
      "execution_count": 3,
      "outputs": []
    },
    {
      "cell_type": "code",
      "metadata": {
        "id": "_ES5pL4IJhGw",
        "outputId": "365eb926-05d9-43e7-a180-06bdacaa1930",
        "colab": {
          "base_uri": "https://localhost:8080/"
        }
      },
      "source": [
        "!tar -xvf MBGBLHGP_2019/data/flank/filtered_feature_bc_matrix.tar.gz"
      ],
      "execution_count": 4,
      "outputs": [
        {
          "output_type": "stream",
          "text": [
            "filtered_feature_bc_matrix/\n",
            "filtered_feature_bc_matrix/matrix.mtx.gz\n",
            "filtered_feature_bc_matrix/features.tsv.gz\n",
            "filtered_feature_bc_matrix/barcodes.tsv.gz\n"
          ],
          "name": "stdout"
        }
      ]
    },
    {
      "cell_type": "code",
      "metadata": {
        "id": "Anu2bZliJ5MP"
      },
      "source": [
        "!gunzip MBGBLHGP_2019/data/flank/normal/*\n",
        "!gunzip MBGBLHGP_2019/data/flank/splice/*"
      ],
      "execution_count": 5,
      "outputs": []
    },
    {
      "cell_type": "code",
      "metadata": {
        "id": "-AG5u-mqKGsm"
      },
      "source": [
        "!cat MBGBLHGP_2019/data/flank/normal/genes.mtx.top MBGBLHGP_2019/data/flank/normal/genes.mtx.bot > MBGBLHGP_2019/data/flank/normal/genes.mtx\n",
        "!cat MBGBLHGP_2019/data/flank/splice/genes.mtx.top MBGBLHGP_2019/data/flank/splice/genes.mtx.bot > MBGBLHGP_2019/data/flank/splice/genes.mtx"
      ],
      "execution_count": 6,
      "outputs": []
    },
    {
      "cell_type": "code",
      "metadata": {
        "id": "RtEQEJscJNWM"
      },
      "source": [
        "import scanpy as sc\n",
        "from scipy import sparse, io\n",
        "import matplotlib.pyplot as plt\n",
        "import pandas as pd\n",
        "%config InlineBackend.figure_format = 'retina'"
      ],
      "execution_count": 7,
      "outputs": []
    },
    {
      "cell_type": "code",
      "metadata": {
        "id": "4hV2RlvrJNWN"
      },
      "source": [
        "c = sc.read_10x_mtx(\"filtered_feature_bc_matrix/\")"
      ],
      "execution_count": 9,
      "outputs": []
    },
    {
      "cell_type": "code",
      "metadata": {
        "id": "Bu_XMdhYJNWN"
      },
      "source": [
        "k = sc.read_mtx(\"MBGBLHGP_2019/data/flank/normal/genes.mtx\")"
      ],
      "execution_count": 10,
      "outputs": []
    },
    {
      "cell_type": "code",
      "metadata": {
        "id": "661nldoTJNWN",
        "outputId": "b09bc988-7835-4c7e-ffba-2cae4c8044d5",
        "colab": {
          "base_uri": "https://localhost:8080/"
        }
      },
      "source": [
        "print(c)\n",
        "print(k)"
      ],
      "execution_count": 11,
      "outputs": [
        {
          "output_type": "stream",
          "text": [
            "AnnData object with n_obs × n_vars = 11692 × 33538\n",
            "    var: 'gene_ids', 'feature_types'\n",
            "AnnData object with n_obs × n_vars = 1266268 × 33538\n"
          ],
          "name": "stdout"
        }
      ]
    },
    {
      "cell_type": "code",
      "metadata": {
        "id": "_Gkb5DkfJNWO"
      },
      "source": [
        "k_bcs = pd.read_csv(\"MBGBLHGP_2019/data/flank/normal/genes.barcodes.txt\", header=None)\n",
        "k_genes = pd.read_csv(\"MBGBLHGP_2019/data/flank/normal/genes.genes.txt\", header=None)"
      ],
      "execution_count": 12,
      "outputs": []
    },
    {
      "cell_type": "code",
      "metadata": {
        "id": "qSA1uLKqJNWO"
      },
      "source": [
        "k.obs.index = k_bcs[0].values\n",
        "k.var.index = k_genes[0].values"
      ],
      "execution_count": 13,
      "outputs": []
    },
    {
      "cell_type": "markdown",
      "metadata": {
        "id": "VS36N7HzJNWO"
      },
      "source": [
        "## Filter k by barcodes in c"
      ]
    },
    {
      "cell_type": "code",
      "metadata": {
        "id": "2AZMCfrlJNWP"
      },
      "source": [
        "c.obs.index = c.obs.index.str.slice(0, 16)"
      ],
      "execution_count": 14,
      "outputs": []
    },
    {
      "cell_type": "code",
      "metadata": {
        "id": "ccRuuD1SJNWP"
      },
      "source": [
        "c.var.index = c.var[\"gene_ids\"]"
      ],
      "execution_count": 15,
      "outputs": []
    },
    {
      "cell_type": "code",
      "metadata": {
        "id": "H6i53dzgJNWP",
        "outputId": "263bad69-b8bf-4f0e-ea6a-db3318346531",
        "colab": {
          "base_uri": "https://localhost:8080/"
        }
      },
      "source": [
        "k = k[k.obs.index.isin(c.obs.index)]\n",
        "print(k)"
      ],
      "execution_count": 16,
      "outputs": [
        {
          "output_type": "stream",
          "text": [
            "View of AnnData object with n_obs × n_vars = 11692 × 33538\n"
          ],
          "name": "stdout"
        }
      ]
    },
    {
      "cell_type": "code",
      "metadata": {
        "id": "RJW227FNJNWP",
        "outputId": "b8ef0d68-4afe-47ad-9d6f-4775227b6bca",
        "colab": {
          "base_uri": "https://localhost:8080/"
        }
      },
      "source": [
        "k = k[:,k.var.index.isin(c.var.index)]\n",
        "print(k)"
      ],
      "execution_count": 17,
      "outputs": [
        {
          "output_type": "stream",
          "text": [
            "View of AnnData object with n_obs × n_vars = 11692 × 33538\n"
          ],
          "name": "stdout"
        }
      ]
    },
    {
      "cell_type": "code",
      "metadata": {
        "id": "IpjI-MWIJNWQ"
      },
      "source": [
        "c = c[:,c.var.index.isin(k.var.index)]"
      ],
      "execution_count": 18,
      "outputs": []
    },
    {
      "cell_type": "code",
      "metadata": {
        "id": "NzLZLsSDJNWQ",
        "outputId": "5cbd6e6e-fe5a-4d04-d0ab-81944de09d4f",
        "colab": {
          "base_uri": "https://localhost:8080/"
        }
      },
      "source": [
        "print(c)\n",
        "print(k)"
      ],
      "execution_count": 19,
      "outputs": [
        {
          "output_type": "stream",
          "text": [
            "View of AnnData object with n_obs × n_vars = 11692 × 33538\n",
            "    var: 'gene_ids', 'feature_types'\n",
            "View of AnnData object with n_obs × n_vars = 11692 × 33538\n"
          ],
          "name": "stdout"
        }
      ]
    },
    {
      "cell_type": "code",
      "metadata": {
        "id": "JPzdjI3bJNWQ"
      },
      "source": [
        "safe_c = c.copy()\n",
        "safe_k = k.copy()"
      ],
      "execution_count": 20,
      "outputs": []
    },
    {
      "cell_type": "code",
      "metadata": {
        "id": "gQdg37u-JNWQ"
      },
      "source": [
        "c = safe_c.copy()\n",
        "k = safe_k.copy()"
      ],
      "execution_count": 21,
      "outputs": []
    },
    {
      "cell_type": "markdown",
      "metadata": {
        "id": "Wox0HGbbJNWR"
      },
      "source": [
        "# Scanpy Analysis"
      ]
    },
    {
      "cell_type": "code",
      "metadata": {
        "id": "jUumwAfrJNWR"
      },
      "source": [
        "c.var_names_make_unique()\n",
        "c.obs_names_make_unique()\n",
        "sc.pp.filter_cells(c, min_genes=0)\n",
        "sc.pp.filter_cells(c, min_counts=0)\n",
        "sc.pp.filter_genes(c, min_cells=0)\n",
        "\n",
        "k.var_names_make_unique()\n",
        "k.obs_names_make_unique()\n",
        "sc.pp.filter_cells(k, min_genes=0)\n",
        "sc.pp.filter_cells(k, min_counts=0)\n",
        "sc.pp.filter_genes(k, min_cells=0)"
      ],
      "execution_count": 22,
      "outputs": []
    },
    {
      "cell_type": "code",
      "metadata": {
        "id": "ruQqp_B2JNWR",
        "outputId": "340e870a-ca6f-4318-a968-fcdcc464ef2d",
        "colab": {
          "base_uri": "https://localhost:8080/",
          "height": 565
        }
      },
      "source": [
        "fig, ax = plt.subplots()\n",
        "ax.set_ylim(-3, 103)\n",
        "sc.pl.violin(c, keys='ENSG00000118972', color=\"#1F77B4\", dpi=300, save=\"cellranger_gene.pdf\", ax=ax)\n",
        "\n",
        "fig, ax = plt.subplots()\n",
        "ax.set_ylim(-3, 103)\n",
        "sc.pl.violin(k, keys='ENSG00000118972', color=\"#FF7F0E\", dpi=300, save=\"kallisto_regular_gene.pdf\", ax=ax)"
      ],
      "execution_count": 23,
      "outputs": [
        {
          "output_type": "stream",
          "text": [
            "... storing 'feature_types' as categorical\n",
            "WARNING: saving figure to file figures/violincellranger_gene.pdf\n"
          ],
          "name": "stderr"
        },
        {
          "output_type": "display_data",
          "data": {
            "image/png": "[encoded data removed]",
            "text/plain": [
              "<Figure size 432x288 with 1 Axes>"
            ]
          },
          "metadata": {
            "tags": [],
            "image/png": {
              "width": 388,
              "height": 248
            },
            "needs_background": "light"
          }
        },
        {
          "output_type": "stream",
          "text": [
            "WARNING: saving figure to file figures/violinkallisto_regular_gene.pdf\n"
          ],
          "name": "stderr"
        },
        {
          "output_type": "display_data",
          "data": {
            "image/png": "[encoded data removed]",
            "text/plain": [
              "<Figure size 432x288 with 1 Axes>"
            ]
          },
          "metadata": {
            "tags": [],
            "image/png": {
              "width": 388,
              "height": 248
            },
            "needs_background": "light"
          }
        }
      ]
    },
    {
      "cell_type": "code",
      "metadata": {
        "id": "O_2HMsysKjNJ"
      },
      "source": [
        ""
      ],
      "execution_count": null,
      "outputs": []
    }
  ]
}