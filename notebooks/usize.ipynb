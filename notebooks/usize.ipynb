{
 "cells": [
  {
   "cell_type": "code",
   "execution_count": 1,
   "metadata": {},
   "outputs": [
    {
     "name": "stdout",
     "output_type": "stream",
     "text": [
      "Thu Feb  4 15:59:32 PST 2021\n"
     ]
    }
   ],
   "source": [
    "!date"
   ]
  },
  {
   "cell_type": "markdown",
   "metadata": {},
   "source": [
    "# Supplementary Figure 1"
   ]
  },
  {
   "cell_type": "code",
   "execution_count": 2,
   "metadata": {},
   "outputs": [],
   "source": [
    "import glob\n",
    "import pandas as pd\n",
    "import numpy as np\n",
    "import pandas as pd\n",
    "import scipy as scp\n",
    "import sklearn\n",
    "import itertools\n",
    "from scipy.optimize import fsolve\n",
    "from upsetplot import generate_data, plot, from_memberships\n",
    "from collections import Counter\n",
    "from matplotlib.ticker import FormatStrFormatter\n",
    "from matplotlib.ticker import StrMethodFormatter\n",
    "from mpl_toolkits.axes_grid1.inset_locator import inset_axes\n",
    "import matplotlib.patches as mpatches\n",
    "import matplotlib.ticker as ticker\n",
    "\n",
    "import matplotlib.pyplot as plt\n",
    "import matplotlib\n",
    "matplotlib.rcParams.update({'font.size': 22})\n",
    "%config InlineBackend.figure_format = 'retina'"
   ]
  },
  {
   "cell_type": "code",
   "execution_count": 3,
   "metadata": {},
   "outputs": [],
   "source": [
    "v2_names = np.array(['SRR8599150_v2',\n",
    "       'heart1k_v2', 'SRR8611943_v2',\n",
    "       'SRR8257100_v2', 'EMTAB7320_v2',\n",
    "       'SRR7299563_v2', 'SRR8513910_v2',\n",
    "       'SRR8639063_v2', 'SRR8524760_v2',\n",
    "       'SRR6956073_v2', 'hgmm1k_v2',\n",
    "       'SRR8206317_v2', 'SRR8327928_v2',\n",
    "       'SRR6998058_v2'], dtype=object)\n",
    "\n",
    "v3_names = np.array(['pbmc_1k_v3', 'hgmm10k_v3',\n",
    "       'neuron_10k_v3', 'pbmc_10k_v3',\n",
    "       'heart1k_v3', 'hgmm1k_v3'], dtype=object)"
   ]
  },
  {
   "cell_type": "code",
   "execution_count": 4,
   "metadata": {},
   "outputs": [],
   "source": [
    "v2_data = {}\n",
    "v2_data[\"EMTAB7320_v2\"]  = {\"n_reads\": 335147976}\n",
    "v2_data[\"heart1k_v2\"]  = {\"n_reads\": 88872840}\n",
    "v2_data[\"hgmm1k_v2\"] = {\"n_reads\": 75225120}\n",
    "v2_data[\"SRR6956073_v2\"] = {\"n_reads\": 161274652}\n",
    "v2_data[\"SRR6998058_v2\"] = {\"n_reads\": 37227612}\n",
    "v2_data[\"SRR7299563_v2\"]  = {\"n_reads\": 112176350}\n",
    "v2_data[\"SRR8206317_v2\"] = {\"n_reads\": 85992089}\n",
    "v2_data[\"SRR8257100_v2\"]  = {\"n_reads\": 189337914}\n",
    "v2_data[\"SRR8327928_v2\"] = {\"n_reads\": 190094560}\n",
    "v2_data[\"SRR8513910_v2\"]  = {\"n_reads\": 146617182}\n",
    "v2_data[\"SRR8524760_v2\"]  = {\"n_reads\": 97106426}\n",
    "v2_data[\"SRR8599150_v2\"]  = {\"n_reads\": 8860361}\n",
    "v2_data[\"SRR8611943_v2\"]  = {\"n_reads\": 21574502}\n",
    "v2_data[\"SRR8639063_v2\"]  = {\"n_reads\": 416437344}\n",
    "\n",
    "v2_data[\"EMTAB7320_v2\"][\"n_cells\"] = 4510\n",
    "v2_data[\"heart1k_v2\"][\"n_cells\"] = 712\n",
    "v2_data[\"hgmm1k_v2\"][\"n_cells\"] = 1079\n",
    "v2_data[\"SRR6956073_v2\"][\"n_cells\"] = 4168\n",
    "v2_data[\"SRR6998058_v2\"][\"n_cells\"] = 575\n",
    "v2_data[\"SRR7299563_v2\"][\"n_cells\"] = 1660\n",
    "v2_data[\"SRR8206317_v2\"][\"n_cells\"] = 4418\n",
    "v2_data[\"SRR8257100_v2\"][\"n_cells\"] = 11685\n",
    "v2_data[\"SRR8327928_v2\"][\"n_cells\"] = 10396\n",
    "v2_data[\"SRR8513910_v2\"][\"n_cells\"] = 726\n",
    "v2_data[\"SRR8524760_v2\"][\"n_cells\"] = 3064\n",
    "v2_data[\"SRR8599150_v2\"][\"n_cells\"] = 3949\n",
    "v2_data[\"SRR8611943_v2\"][\"n_cells\"] = 5194\n",
    "v2_data[\"SRR8639063_v2\"][\"n_cells\"] = 6614"
   ]
  },
  {
   "cell_type": "code",
   "execution_count": 5,
   "metadata": {},
   "outputs": [],
   "source": [
    "v3_data = {}\n",
    "v3_data[\"hgmm1k_v3\"] = {\"n_reads\": 63105786}\n",
    "v3_data[\"neuron_10k_v3\"] = {\"n_reads\": 357111595}\n",
    "v3_data[\"pbmc_10k_v3\"] = {\"n_reads\": 638901019}\n",
    "v3_data[\"pbmc_1k_v3\"] = {\"n_reads\": 66601887}\n",
    "v3_data[\"heart1k_v3\"] = {\"n_reads\": 84512390}\n",
    "v3_data[\"hgmm10k_v3\"] = {\"n_reads\": 721180737}\n",
    "\n",
    "v3_data[\"hgmm1k_v3\"][\"n_cells\"] = 1011\n",
    "v3_data[\"neuron_10k_v3\"][\"n_cells\"] = 11477\n",
    "v3_data[\"pbmc_10k_v3\"][\"n_cells\"] = 1045\n",
    "v3_data[\"pbmc_1k_v3\"][\"n_cells\"] = 11790\n",
    "v3_data[\"heart1k_v3\"][\"n_cells\"] = 11692\n",
    "v3_data[\"hgmm10k_v3\"][\"n_cells\"] = 1227"
   ]
  },
  {
   "cell_type": "code",
   "execution_count": 6,
   "metadata": {},
   "outputs": [
    {
     "name": "stdout",
     "output_type": "stream",
     "text": [
      "CPU times: user 592 µs, sys: 231 µs, total: 823 µs\n",
      "Wall time: 8.14 ms\n"
     ]
    }
   ],
   "source": [
    "%%time\n",
    "for f in glob.glob(\"/home/sina/projects/bus/validate/all_bus/k*\"):\n",
    "    name = \"_\".join(f.split(\"/\")[7].split(\"_\")[1:])\n",
    "    print(name)\n",
    "    if \"v2\" in name:\n",
    "        # Estimate number of UMIs\n",
    "        v2_data[name][\"Nest\"] = pd.read_csv(f + \"/Nest.txt\", header=None).values.flatten()\n",
    "        \n",
    "    elif \"v3\" in name:\n",
    "        v3_data[name][\"Nest\"] = pd.read_csv(f + \"/Nest.txt\", header=None).values.flatten()"
   ]
  },
  {
   "cell_type": "markdown",
   "metadata": {},
   "source": [
    "# Supplementary Figure 1"
   ]
  },
  {
   "cell_type": "code",
   "execution_count": 7,
   "metadata": {},
   "outputs": [
    {
     "ename": "KeyError",
     "evalue": "'Nest'",
     "output_type": "error",
     "traceback": [
      "\u001b[0;31m---------------------------------------------------------------------------\u001b[0m",
      "\u001b[0;31mKeyError\u001b[0m                                  Traceback (most recent call last)",
      "\u001b[0;32m<ipython-input-7-6015ec076257>\u001b[0m in \u001b[0;36m<module>\u001b[0;34m\u001b[0m\n\u001b[0;32m----> 1\u001b[0;31m \u001b[0mdata\u001b[0m \u001b[0;34m=\u001b[0m \u001b[0;34m[\u001b[0m\u001b[0mnp\u001b[0m\u001b[0;34m.\u001b[0m\u001b[0marray\u001b[0m\u001b[0;34m(\u001b[0m\u001b[0mv2_data\u001b[0m\u001b[0;34m[\u001b[0m\u001b[0mi\u001b[0m\u001b[0;34m]\u001b[0m\u001b[0;34m[\u001b[0m\u001b[0;34m\"Nest\"\u001b[0m\u001b[0;34m]\u001b[0m\u001b[0;34m)\u001b[0m \u001b[0;32mfor\u001b[0m \u001b[0mi\u001b[0m \u001b[0;32min\u001b[0m \u001b[0mv2_names\u001b[0m\u001b[0;34m]\u001b[0m\u001b[0;34m\u001b[0m\u001b[0;34m\u001b[0m\u001b[0m\n\u001b[0m\u001b[1;32m      2\u001b[0m \u001b[0;34m[\u001b[0m\u001b[0mdata\u001b[0m\u001b[0;34m.\u001b[0m\u001b[0mappend\u001b[0m\u001b[0;34m(\u001b[0m\u001b[0mnp\u001b[0m\u001b[0;34m.\u001b[0m\u001b[0marray\u001b[0m\u001b[0;34m(\u001b[0m\u001b[0mv3_data\u001b[0m\u001b[0;34m[\u001b[0m\u001b[0mi\u001b[0m\u001b[0;34m]\u001b[0m\u001b[0;34m[\u001b[0m\u001b[0;34m\"Nest\"\u001b[0m\u001b[0;34m]\u001b[0m\u001b[0;34m)\u001b[0m\u001b[0;34m)\u001b[0m \u001b[0;32mfor\u001b[0m \u001b[0mi\u001b[0m \u001b[0;32min\u001b[0m \u001b[0mv3_names\u001b[0m\u001b[0;34m]\u001b[0m\u001b[0;34m\u001b[0m\u001b[0;34m\u001b[0m\u001b[0m\n\u001b[1;32m      3\u001b[0m \u001b[0;34m\u001b[0m\u001b[0m\n\u001b[1;32m      4\u001b[0m \u001b[0mnames\u001b[0m \u001b[0;34m=\u001b[0m \u001b[0mv2_names\u001b[0m\u001b[0;34m\u001b[0m\u001b[0;34m\u001b[0m\u001b[0m\n\u001b[1;32m      5\u001b[0m \u001b[0mn3\u001b[0m \u001b[0;34m=\u001b[0m \u001b[0mv3_names\u001b[0m\u001b[0;34m\u001b[0m\u001b[0;34m\u001b[0m\u001b[0m\n",
      "\u001b[0;32m<ipython-input-7-6015ec076257>\u001b[0m in \u001b[0;36m<listcomp>\u001b[0;34m(.0)\u001b[0m\n\u001b[0;32m----> 1\u001b[0;31m \u001b[0mdata\u001b[0m \u001b[0;34m=\u001b[0m \u001b[0;34m[\u001b[0m\u001b[0mnp\u001b[0m\u001b[0;34m.\u001b[0m\u001b[0marray\u001b[0m\u001b[0;34m(\u001b[0m\u001b[0mv2_data\u001b[0m\u001b[0;34m[\u001b[0m\u001b[0mi\u001b[0m\u001b[0;34m]\u001b[0m\u001b[0;34m[\u001b[0m\u001b[0;34m\"Nest\"\u001b[0m\u001b[0;34m]\u001b[0m\u001b[0;34m)\u001b[0m \u001b[0;32mfor\u001b[0m \u001b[0mi\u001b[0m \u001b[0;32min\u001b[0m \u001b[0mv2_names\u001b[0m\u001b[0;34m]\u001b[0m\u001b[0;34m\u001b[0m\u001b[0;34m\u001b[0m\u001b[0m\n\u001b[0m\u001b[1;32m      2\u001b[0m \u001b[0;34m[\u001b[0m\u001b[0mdata\u001b[0m\u001b[0;34m.\u001b[0m\u001b[0mappend\u001b[0m\u001b[0;34m(\u001b[0m\u001b[0mnp\u001b[0m\u001b[0;34m.\u001b[0m\u001b[0marray\u001b[0m\u001b[0;34m(\u001b[0m\u001b[0mv3_data\u001b[0m\u001b[0;34m[\u001b[0m\u001b[0mi\u001b[0m\u001b[0;34m]\u001b[0m\u001b[0;34m[\u001b[0m\u001b[0;34m\"Nest\"\u001b[0m\u001b[0;34m]\u001b[0m\u001b[0;34m)\u001b[0m\u001b[0;34m)\u001b[0m \u001b[0;32mfor\u001b[0m \u001b[0mi\u001b[0m \u001b[0;32min\u001b[0m \u001b[0mv3_names\u001b[0m\u001b[0;34m]\u001b[0m\u001b[0;34m\u001b[0m\u001b[0;34m\u001b[0m\u001b[0m\n\u001b[1;32m      3\u001b[0m \u001b[0;34m\u001b[0m\u001b[0m\n\u001b[1;32m      4\u001b[0m \u001b[0mnames\u001b[0m \u001b[0;34m=\u001b[0m \u001b[0mv2_names\u001b[0m\u001b[0;34m\u001b[0m\u001b[0;34m\u001b[0m\u001b[0m\n\u001b[1;32m      5\u001b[0m \u001b[0mn3\u001b[0m \u001b[0;34m=\u001b[0m \u001b[0mv3_names\u001b[0m\u001b[0;34m\u001b[0m\u001b[0;34m\u001b[0m\u001b[0m\n",
      "\u001b[0;31mKeyError\u001b[0m: 'Nest'"
     ]
    }
   ],
   "source": [
    "data = [np.array(v2_data[i][\"Nest\"]) for i in v2_names]\n",
    "[data.append(np.array(v3_data[i][\"Nest\"])) for i in v3_names]\n",
    "\n",
    "names = v2_names \n",
    "n3 = v3_names\n",
    "names = np.append(names, n3)\n",
    "\n",
    "nreads = [v2_data[i][\"n_reads\"] for i in v2_names]\n",
    "[nreads.append(v3_data[i][\"n_reads\"]) for i in v3_names]\n",
    "\n",
    "idx_sorted = np.argsort(nreads)\n",
    "sorted_nreads = np.sort(nreads)"
   ]
  },
  {
   "cell_type": "code",
   "execution_count": null,
   "metadata": {},
   "outputs": [],
   "source": [
    "data = list(np.array(data)[idx_sorted])\n",
    "\n",
    "names = names[idx_sorted]"
   ]
  },
  {
   "cell_type": "code",
   "execution_count": null,
   "metadata": {},
   "outputs": [],
   "source": [
    "kallisto_color_v2 = '#cccccc'\n",
    "kallisto_color_v3 = 'black'\n",
    "tick_spacing = 1\n",
    "\n",
    "\n",
    "def adjacent_values(vals, q1, q3):\n",
    "    upper_adjacent_value = q3 + (q3 - q1) * 1.5\n",
    "    upper_adjacent_value = np.clip(upper_adjacent_value, q3, vals[-1])\n",
    "\n",
    "    lower_adjacent_value = q1 - (q3 - q1) * 1.5\n",
    "    lower_adjacent_value = np.clip(lower_adjacent_value, vals[0], q1)\n",
    "    return lower_adjacent_value, upper_adjacent_value\n",
    "\n",
    "\n",
    "def set_axis_style(ax, labels):\n",
    "    ax.get_xaxis().set_tick_params(direction='out')\n",
    "    ax.xaxis.set_ticks_position('bottom')\n",
    "    ax.set_xticks(np.arange(1, len(labels) + 1))\n",
    "    ax.set_xticklabels(labels)\n",
    "    ax.set_xlim(0.25, len(labels) + 0.75)\n",
    "    #ax.set_xlabel('Sample name')\n",
    "\n",
    "fig, ax = plt.subplots(figsize=(20, 10), nrows=1, ncols=1)\n",
    "\n",
    "\n",
    "parts = ax.violinplot(data, showmeans=False, showmedians=False,showextrema=False)\n",
    "\n",
    "\n",
    "for pc_i in range(len(parts['bodies'])):\n",
    "    if \"v2\" in names[pc_i]:\n",
    "        parts['bodies'][pc_i].set_facecolor(kallisto_color_v2)\n",
    "    elif \"v3\" in names[pc_i]:\n",
    "        parts['bodies'][pc_i].set_facecolor(kallisto_color_v3)\n",
    "    parts['bodies'][pc_i].set_edgecolor('black')\n",
    "    parts['bodies'][pc_i].set_alpha(1)\n",
    "\n",
    "# set style for the axes\n",
    "set_axis_style(ax, names)\n",
    "\n",
    "#ticks = ax.get_yticks().tolist()\n",
    "#ticks = [\"{:.1f}\".format(i) for i in ticks]\n",
    "#ticks[0] = \"No counts lost 0.0\"\n",
    "#ticks[-1] = \"All counts lost 1.0\"\n",
    "\n",
    "#for tick in ax.get_xticklabels():\n",
    "#    tick.set_rotation(45, ha=\"right\")\n",
    "\n",
    "ax.set_xticklabels(ax.xaxis.get_majorticklabels(), rotation=45, ha=\"right\")\n",
    "\n",
    "grey_patch = mpatches.Patch(color=kallisto_color_v2, label='v2 Chemistry')\n",
    "black_patch = mpatches.Patch(color=kallisto_color_v3, label='v3 Chemistry')\n",
    "\n",
    "ax.figure.legend(handles=[grey_patch, black_patch], loc=1, bbox_to_anchor=(0.25,0.93))\n",
    "\n",
    "ax.set_ylabel(\"Estimated number of UMIs per bead\")\n",
    "\n",
    "ax.set_yscale('log')\n",
    "\n",
    "ax.grid(True, which=\"minor\")\n",
    "ax.set_ylim(bottom=10000)\n",
    "\n",
    "plt.gca().yaxis.set_major_formatter(StrMethodFormatter('{x:,.0f}'))\n",
    "plt.subplots_adjust(bottom=0.15, wspace=0.05)\n",
    "plt.tight_layout()\n",
    "plt.savefig(\"sizeU.pdf\")\n",
    "plt.show()"
   ]
  }
 ],
 "metadata": {
  "kernelspec": {
   "display_name": "Python 3",
   "language": "python",
   "name": "python3"
  },
  "language_info": {
   "codemirror_mode": {
    "name": "ipython",
    "version": 3
   },
   "file_extension": ".py",
   "mimetype": "text/x-python",
   "name": "python",
   "nbconvert_exporter": "python",
   "pygments_lexer": "ipython3",
   "version": "3.7.9"
  }
 },
 "nbformat": 4,
 "nbformat_minor": 4
}
